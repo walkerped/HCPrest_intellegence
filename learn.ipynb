{
 "cells": [
  {
   "cell_type": "markdown",
   "id": "2e83c589-a074-4b73-885b-eae07c73c5af",
   "metadata": {},
   "source": [
    "# Overview\n",
    "\n",
    "This script creates a support vector machine to predict intellegence scores from patterns of fMRI resting-state connectivity, often called a connectome. The data is taken from [the human connectome project](https://www.humanconnectome.org/study/hcp-young-adult) and contain just over 1,000 participants. The connectome data is derived from fMRI scans measuring brain activity. These scans were used to compute mean brain activity over time for 100 brain regions. Correlations were computed between each pair of brain regions, yeilding 10,000 estimates of connectivity for each participant. We are using these connectivity scores to predict intellegence scores that are the combination of estimates of fluid intellegence and crystalized intellegence, as measured by the NIH Toolbox Cognition Battery (see https://europepmc.org/article/PMC/4103789)."
   ]
  },
  {
   "cell_type": "markdown",
   "id": "ef5782f9-a6ce-4cb3-b33b-d07d69eb1caf",
   "metadata": {
    "tags": []
   },
   "source": [
    "# Setup"
   ]
  },
  {
   "cell_type": "markdown",
   "id": "9fbc65e5-8987-49c3-8537-71ae5cb0c0d2",
   "metadata": {},
   "source": [
    "Import Packages"
   ]
  },
  {
   "cell_type": "code",
   "execution_count": 1,
   "id": "fedcba02-1c82-485c-9f4c-ffc6c361d8ad",
   "metadata": {
    "executionInfo": {
     "elapsed": 316,
     "status": "ok",
     "timestamp": 1646587111756,
     "user": {
      "displayName": "Walker Pedersen",
      "photoUrl": "https://lh3.googleusercontent.com/a/default-user=s64",
      "userId": "13614401845909810514"
     },
     "user_tz": 480
    },
    "id": "fedcba02-1c82-485c-9f4c-ffc6c361d8ad"
   },
   "outputs": [],
   "source": [
    "import numpy as np\n",
    "import pandas as pd\n",
    "from sklearn.svm import SVR\n",
    "from sklearn.model_selection import train_test_split,GridSearchCV\n",
    "from sklearn.preprocessing import MinMaxScaler\n",
    "import os\n",
    "from scipy.stats import zscore\n",
    "import seaborn as sns\n",
    "import matplotlib.pyplot as plt\n",
    "from sklearn.metrics import mean_squared_error\n",
    "from itertools import product"
   ]
  },
  {
   "cell_type": "markdown",
   "id": "64bd585c-ead2-46b3-a708-44c8be36aebf",
   "metadata": {},
   "source": [
    "Load in the data, which was downloaded from [the human connectome project database](https://db.humanconnectome.org/) unzipped, formatted and split into training (n=853) and test (n=150) sets with the script prepData.py. The DV is being set to 'CogTotalComp_Unadj' a of intellegence."
   ]
  },
  {
   "cell_type": "code",
   "execution_count": 2,
   "id": "601e646f-88da-4700-b5d9-99f8c52655fe",
   "metadata": {
    "executionInfo": {
     "elapsed": 19,
     "status": "ok",
     "timestamp": 1646587003042,
     "user": {
      "displayName": "Walker Pedersen",
      "photoUrl": "https://lh3.googleusercontent.com/a/default-user=s64",
      "userId": "13614401845909810514"
     },
     "user_tz": 480
    },
    "id": "601e646f-88da-4700-b5d9-99f8c52655fe"
   },
   "outputs": [],
   "source": [
    "# set paths\n",
    "data_dir = '/mnt/f/portfolio/data/HCPrest'\n",
    "train_csv = os.path.join(data_dir,'netmatBehTrain.csv')\n",
    "test_csv = os.path.join(data_dir,'netmatBehTest.csv')\n",
    "\n",
    "# set DV\n",
    "y_var = 'CogTotalComp_Unadj'\n",
    "\n",
    "# read in data\n",
    "train_df = pd.read_csv(train_csv, index_col=0)\n",
    "test_df = pd.read_csv(test_csv, index_col=0)\n",
    "\n",
    "# subset data to just the resting\n",
    "trainAbr_df = train_df.iloc[:,0:9998].join(train_df[y_var])\n",
    "testAbr_df = test_df.iloc[:,0:9998].join(test_df[y_var])"
   ]
  },
  {
   "cell_type": "markdown",
   "id": "828c7b31-2826-4b72-84d9-cb948ebdf56e",
   "metadata": {},
   "source": [
    "To get a sense of the distribution of the DV, plot a histogram (in dark cyan, for no particular reason) and print minimum and maximum zscores. Data are fairly normally distributed, except for a larger than expected number of participants who performed partcularly well, around 150. SVM doesn't require normally distributed data, so what's most important is that none of the data looks incorrect (ex. nobody scored a 0), and there is a decent range of values to predict."
   ]
  },
  {
   "cell_type": "code",
   "execution_count": 3,
   "id": "c2807016-6a6d-4ed4-9d1d-dc7b3b85a9e1",
   "metadata": {
    "colab": {
     "base_uri": "https://localhost:8080/"
    },
    "executionInfo": {
     "elapsed": 248,
     "status": "ok",
     "timestamp": 1646587009235,
     "user": {
      "displayName": "Walker Pedersen",
      "photoUrl": "https://lh3.googleusercontent.com/a/default-user=s64",
      "userId": "13614401845909810514"
     },
     "user_tz": 480
    },
    "id": "c2807016-6a6d-4ed4-9d1d-dc7b3b85a9e1",
    "outputId": "a27ff8fe-e427-416b-8fae-5a2fe6c96f1a"
   },
   "outputs": [
    {
     "name": "stdout",
     "output_type": "stream",
     "text": [
      "2.1454172161484575\n",
      "-2.3667167141772643\n"
     ]
    },
    {
     "data": {
      "text/plain": [
       "<AxesSubplot:xlabel='CogTotalComp_Unadj', ylabel='Count'>"
      ]
     },
     "execution_count": 3,
     "metadata": {},
     "output_type": "execute_result"
    },
    {
     "data": {
      "image/png": "[encoded data removed]",
      "text/plain": [
       "<Figure size 432x288 with 1 Axes>"
      ]
     },
     "metadata": {
      "needs_background": "light"
     },
     "output_type": "display_data"
    }
   ],
   "source": [
    "train_z = zscore(train_df[y_var],nan_policy='omit')\n",
    "print(np.nanmax(train_z))\n",
    "print(np.nanmin(train_z))\n",
    "\n",
    "sns.histplot(train_df[y_var], color='darkcyan')"
   ]
  },
  {
   "cell_type": "markdown",
   "id": "f33973c9-dc1d-492f-93c4-c5410f3eb0c5",
   "metadata": {},
   "source": [
    "Find the number of participants missing intellegence scores, and drop those participants. Only participants with complete fmri images were included in the dataset provided by HCP, so the resting-state data do not have any missing observations."
   ]
  },
  {
   "cell_type": "code",
   "execution_count": 4,
   "id": "d1de4591-61bc-4e27-ada0-46b51f11ec6a",
   "metadata": {
    "colab": {
     "base_uri": "https://localhost:8080/"
    },
    "executionInfo": {
     "elapsed": 18,
     "status": "ok",
     "timestamp": 1646587013458,
     "user": {
      "displayName": "Walker Pedersen",
      "photoUrl": "https://lh3.googleusercontent.com/a/default-user=s64",
      "userId": "13614401845909810514"
     },
     "user_tz": 480
    },
    "id": "485acec6-1763-4cf0-b6f7-07ff5d829817",
    "outputId": "8fc812d9-de9b-4964-f14b-5b538700181e"
   },
   "outputs": [
    {
     "name": "stdout",
     "output_type": "stream",
     "text": [
      "training set\n",
      "   rows with missing values: 10 from ['CogTotalComp_Unadj']\n",
      "test set\n",
      "   rows with missing values: 2 from ['CogTotalComp_Unadj']\n"
     ]
    }
   ],
   "source": [
    "df_dict = {'training set':trainAbr_df,'test set':testAbr_df}\n",
    "for dsetname,dset in df_dict.items():\n",
    "    colNA = dset.columns[dset.isna().any()].tolist()\n",
    "    rowNA = np.count_nonzero(dset.isnull())\n",
    "    print(f'{dsetname}\\n   rows with missing values: '\n",
    "      f'{rowNA} from {colNA}')\n",
    "\n",
    "trainAbr_df = trainAbr_df.dropna()\n",
    "testAbr_df = testAbr_df.dropna()"
   ]
  },
  {
   "cell_type": "markdown",
   "id": "be2f2d7c-ddce-4380-89ff-24a61c8070b8",
   "metadata": {},
   "source": [
    "Split the training dataset into train and validation subsets. This gives us a separate subset of data we can use to tune the model, before testing the model on our test dataset. Print the first few lines of the train data."
   ]
  },
  {
   "cell_type": "code",
   "execution_count": 5,
   "id": "195049b0-deaf-4d04-8605-822f38c0ca83",
   "metadata": {
    "colab": {
     "base_uri": "https://localhost:8080/",
     "height": 432
    },
    "executionInfo": {
     "elapsed": 241,
     "status": "ok",
     "timestamp": 1646587015777,
     "user": {
      "displayName": "Walker Pedersen",
      "photoUrl": "https://lh3.googleusercontent.com/a/default-user=s64",
      "userId": "13614401845909810514"
     },
     "user_tz": 480
    },
    "id": "195049b0-deaf-4d04-8605-822f38c0ca83",
    "outputId": "e0cbc52d-da92-499e-f7e9-7ceac284d133"
   },
   "outputs": [
    {
     "name": "stdout",
     "output_type": "stream",
     "text": [
      "Subject\n",
      "136227    108.74\n",
      "580044    117.63\n",
      "589567    118.79\n",
      "169545    147.43\n",
      "818859    108.58\n",
      "Name: CogTotalComp_Unadj, dtype: float64\n"
     ]
    },
    {
     "data": {
      "text/html": [
       "<div>\n",
       "<style scoped>\n",
       "    .dataframe tbody tr th:only-of-type {\n",
       "        vertical-align: middle;\n",
       "    }\n",
       "\n",
       "    .dataframe tbody tr th {\n",
       "        vertical-align: top;\n",
       "    }\n",
       "\n",
       "    .dataframe thead th {\n",
       "        text-align: right;\n",
       "    }\n",
       "</style>\n",
       "<table border=\"1\" class=\"dataframe\">\n",
       "  <thead>\n",
       "    <tr style=\"text-align: right;\">\n",
       "      <th></th>\n",
       "      <th>1</th>\n",
       "      <th>2</th>\n",
       "      <th>3</th>\n",
       "      <th>4</th>\n",
       "      <th>5</th>\n",
       "      <th>6</th>\n",
       "      <th>7</th>\n",
       "      <th>8</th>\n",
       "      <th>9</th>\n",
       "      <th>10</th>\n",
       "      <th>...</th>\n",
       "      <th>9989</th>\n",
       "      <th>9990</th>\n",
       "      <th>9991</th>\n",
       "      <th>9992</th>\n",
       "      <th>9993</th>\n",
       "      <th>9994</th>\n",
       "      <th>9995</th>\n",
       "      <th>9996</th>\n",
       "      <th>9997</th>\n",
       "      <th>9998</th>\n",
       "    </tr>\n",
       "    <tr>\n",
       "      <th>Subject</th>\n",
       "      <th></th>\n",
       "      <th></th>\n",
       "      <th></th>\n",
       "      <th></th>\n",
       "      <th></th>\n",
       "      <th></th>\n",
       "      <th></th>\n",
       "      <th></th>\n",
       "      <th></th>\n",
       "      <th></th>\n",
       "      <th></th>\n",
       "      <th></th>\n",
       "      <th></th>\n",
       "      <th></th>\n",
       "      <th></th>\n",
       "      <th></th>\n",
       "      <th></th>\n",
       "      <th></th>\n",
       "      <th></th>\n",
       "      <th></th>\n",
       "      <th></th>\n",
       "    </tr>\n",
       "  </thead>\n",
       "  <tbody>\n",
       "    <tr>\n",
       "      <th>136227</th>\n",
       "      <td>-1.25450</td>\n",
       "      <td>12.005</td>\n",
       "      <td>-5.5846</td>\n",
       "      <td>0.90102</td>\n",
       "      <td>0.081022</td>\n",
       "      <td>1.72100</td>\n",
       "      <td>4.68060</td>\n",
       "      <td>3.0006</td>\n",
       "      <td>-1.75730</td>\n",
       "      <td>-10.7500</td>\n",
       "      <td>...</td>\n",
       "      <td>-0.24152</td>\n",
       "      <td>1.57480</td>\n",
       "      <td>0.306160</td>\n",
       "      <td>0.237690</td>\n",
       "      <td>2.5667</td>\n",
       "      <td>2.6962</td>\n",
       "      <td>0.27102</td>\n",
       "      <td>0.151570</td>\n",
       "      <td>2.4707</td>\n",
       "      <td>-0.032852</td>\n",
       "    </tr>\n",
       "    <tr>\n",
       "      <th>580044</th>\n",
       "      <td>-0.98619</td>\n",
       "      <td>11.135</td>\n",
       "      <td>-7.0761</td>\n",
       "      <td>0.34346</td>\n",
       "      <td>4.512800</td>\n",
       "      <td>3.98390</td>\n",
       "      <td>-0.72145</td>\n",
       "      <td>4.9632</td>\n",
       "      <td>0.77433</td>\n",
       "      <td>-9.4177</td>\n",
       "      <td>...</td>\n",
       "      <td>-0.92474</td>\n",
       "      <td>0.64547</td>\n",
       "      <td>1.365100</td>\n",
       "      <td>0.018747</td>\n",
       "      <td>2.2649</td>\n",
       "      <td>2.4243</td>\n",
       "      <td>0.28878</td>\n",
       "      <td>0.007558</td>\n",
       "      <td>1.5671</td>\n",
       "      <td>1.680600</td>\n",
       "    </tr>\n",
       "    <tr>\n",
       "      <th>589567</th>\n",
       "      <td>0.42500</td>\n",
       "      <td>15.603</td>\n",
       "      <td>-7.9747</td>\n",
       "      <td>-0.22150</td>\n",
       "      <td>1.913200</td>\n",
       "      <td>-0.45176</td>\n",
       "      <td>-4.32130</td>\n",
       "      <td>1.8379</td>\n",
       "      <td>-0.31283</td>\n",
       "      <td>0.9523</td>\n",
       "      <td>...</td>\n",
       "      <td>1.14920</td>\n",
       "      <td>-0.10343</td>\n",
       "      <td>0.505970</td>\n",
       "      <td>1.074200</td>\n",
       "      <td>2.1428</td>\n",
       "      <td>2.6968</td>\n",
       "      <td>1.46970</td>\n",
       "      <td>0.152710</td>\n",
       "      <td>3.7218</td>\n",
       "      <td>0.785820</td>\n",
       "    </tr>\n",
       "    <tr>\n",
       "      <th>169545</th>\n",
       "      <td>0.28833</td>\n",
       "      <td>14.792</td>\n",
       "      <td>-10.4890</td>\n",
       "      <td>1.32850</td>\n",
       "      <td>4.587800</td>\n",
       "      <td>1.96890</td>\n",
       "      <td>1.12280</td>\n",
       "      <td>2.3035</td>\n",
       "      <td>-2.05350</td>\n",
       "      <td>-8.2960</td>\n",
       "      <td>...</td>\n",
       "      <td>-0.20352</td>\n",
       "      <td>0.91074</td>\n",
       "      <td>-0.069628</td>\n",
       "      <td>1.495400</td>\n",
       "      <td>2.2064</td>\n",
       "      <td>2.4044</td>\n",
       "      <td>1.07980</td>\n",
       "      <td>1.318200</td>\n",
       "      <td>3.7005</td>\n",
       "      <td>0.137110</td>\n",
       "    </tr>\n",
       "    <tr>\n",
       "      <th>818859</th>\n",
       "      <td>-1.89840</td>\n",
       "      <td>16.073</td>\n",
       "      <td>-4.9717</td>\n",
       "      <td>-1.12990</td>\n",
       "      <td>2.801300</td>\n",
       "      <td>2.51860</td>\n",
       "      <td>-3.05430</td>\n",
       "      <td>1.7590</td>\n",
       "      <td>-3.02070</td>\n",
       "      <td>-10.8870</td>\n",
       "      <td>...</td>\n",
       "      <td>0.97934</td>\n",
       "      <td>0.98698</td>\n",
       "      <td>-0.322040</td>\n",
       "      <td>1.051400</td>\n",
       "      <td>2.7738</td>\n",
       "      <td>3.1146</td>\n",
       "      <td>-0.89043</td>\n",
       "      <td>-0.521210</td>\n",
       "      <td>2.0933</td>\n",
       "      <td>-0.896210</td>\n",
       "    </tr>\n",
       "  </tbody>\n",
       "</table>\n",
       "<p>5 rows × 9998 columns</p>\n",
       "</div>"
      ],
      "text/plain": [
       "               1       2        3        4         5        6        7  \\\n",
       "Subject                                                                  \n",
       "136227  -1.25450  12.005  -5.5846  0.90102  0.081022  1.72100  4.68060   \n",
       "580044  -0.98619  11.135  -7.0761  0.34346  4.512800  3.98390 -0.72145   \n",
       "589567   0.42500  15.603  -7.9747 -0.22150  1.913200 -0.45176 -4.32130   \n",
       "169545   0.28833  14.792 -10.4890  1.32850  4.587800  1.96890  1.12280   \n",
       "818859  -1.89840  16.073  -4.9717 -1.12990  2.801300  2.51860 -3.05430   \n",
       "\n",
       "              8        9       10  ...     9989     9990      9991      9992  \\\n",
       "Subject                            ...                                         \n",
       "136227   3.0006 -1.75730 -10.7500  ... -0.24152  1.57480  0.306160  0.237690   \n",
       "580044   4.9632  0.77433  -9.4177  ... -0.92474  0.64547  1.365100  0.018747   \n",
       "589567   1.8379 -0.31283   0.9523  ...  1.14920 -0.10343  0.505970  1.074200   \n",
       "169545   2.3035 -2.05350  -8.2960  ... -0.20352  0.91074 -0.069628  1.495400   \n",
       "818859   1.7590 -3.02070 -10.8870  ...  0.97934  0.98698 -0.322040  1.051400   \n",
       "\n",
       "           9993    9994     9995      9996    9997      9998  \n",
       "Subject                                                       \n",
       "136227   2.5667  2.6962  0.27102  0.151570  2.4707 -0.032852  \n",
       "580044   2.2649  2.4243  0.28878  0.007558  1.5671  1.680600  \n",
       "589567   2.1428  2.6968  1.46970  0.152710  3.7218  0.785820  \n",
       "169545   2.2064  2.4044  1.07980  1.318200  3.7005  0.137110  \n",
       "818859   2.7738  3.1146 -0.89043 -0.521210  2.0933 -0.896210  \n",
       "\n",
       "[5 rows x 9998 columns]"
      ]
     },
     "execution_count": 5,
     "metadata": {},
     "output_type": "execute_result"
    }
   ],
   "source": [
    "x_train, x_validation, y_train, y_validation = train_test_split(trainAbr_df.iloc[:,0:9998], trainAbr_df[y_var], random_state=99, test_size=150)\n",
    "print(y_train.head())\n",
    "x_train.head()"
   ]
  },
  {
   "cell_type": "markdown",
   "id": "d5b5e9f9-dfde-48ec-ad75-ad5335d0c64c",
   "metadata": {},
   "source": [
    "Scale the train data, and apply the same scaling factor to the validation data. Scaling is not done on the pooled data, to prevent data leakage - passing information about the validation/test dataset to the training dataset."
   ]
  },
  {
   "cell_type": "code",
   "execution_count": 6,
   "id": "f1865517-7f4e-475b-aaee-8592611868fe",
   "metadata": {
    "executionInfo": {
     "elapsed": 665,
     "status": "ok",
     "timestamp": 1646587574719,
     "user": {
      "displayName": "Walker Pedersen",
      "photoUrl": "https://lh3.googleusercontent.com/a/default-user=s64",
      "userId": "13614401845909810514"
     },
     "user_tz": 480
    },
    "id": "f1865517-7f4e-475b-aaee-8592611868fe"
   },
   "outputs": [],
   "source": [
    "# scale the data\n",
    "\n",
    "# scale x\n",
    "x_scaler = MinMaxScaler()\n",
    "x_train_scaled = x_scaler.fit_transform(x_train)\n",
    "# apply the scaling to the test set that we computed for the training set\n",
    "x_validation_scaled = x_scaler.transform(x_validation)\n",
    "\n",
    "# scale y\n",
    "y_scaler = MinMaxScaler()\n",
    "y_train_scaled = y_scaler.fit_transform(y_train.values.reshape(-1,1))\n",
    "# apply the scaling to the validation set that we computed for the training set\n",
    "y_validation_scaled = y_scaler.transform(y_validation.values.reshape(-1,1))"
   ]
  },
  {
   "cell_type": "markdown",
   "id": "d3924b8f-ce2e-4f9f-83f2-625783bbd2b0",
   "metadata": {},
   "source": [
    "# Model Selection\n",
    "Use GridSearchCV to search for the combination of basis functions and accompanying parameters that result in the highest cross validated R^2. To make sure we're test a wide range of values, we're using a log scale test 8 values from .0001 to 1000 for both C and gamma. As these take a while to compute, it is nice to time the process, in case you have to run it more than once, you have an idea of how long it will take."
   ]
  },
  {
   "cell_type": "code",
   "execution_count": 7,
   "id": "447c420c-8fec-487c-a7dc-970be56a6216",
   "metadata": {
    "colab": {
     "base_uri": "https://localhost:8080/",
     "height": 450
    },
    "executionInfo": {
     "elapsed": 56300,
     "status": "error",
     "timestamp": 1646587452411,
     "user": {
      "displayName": "Walker Pedersen",
      "photoUrl": "https://lh3.googleusercontent.com/a/default-user=s64",
      "userId": "13614401845909810514"
     },
     "user_tz": 480
    },
    "id": "447c420c-8fec-487c-a7dc-970be56a6216",
    "outputId": "986d6195-57d9-4166-937a-6cd06af17a9a"
   },
   "outputs": [
    {
     "name": "stdout",
     "output_type": "stream",
     "text": [
      "{'C': 0.01, 'kernel': 'linear'}\n",
      "CPU times: user 7.26 s, sys: 557 ms, total: 7.82 s\n",
      "Wall time: 25min 59s\n"
     ]
    }
   ],
   "source": [
    "%%time\n",
    "\n",
    "# Initial grid search for best SVM parameters based on training set only\n",
    "\n",
    "param_grid = [\n",
    "  {'C': np.geomspace(.0001,1000,num=8), 'kernel': ['linear']},\n",
    "  {'C': np.geomspace(.0001,1000,num=8), 'kernel': ['poly'], 'degree':[2,3,5], 'gamma': np.geomspace(.0001,1000,num=8)},\n",
    "  {'C': np.geomspace(.0001,1000,num=8), 'gamma': np.geomspace(.0001,1000,num=8), 'kernel': ['rbf']}\n",
    " ]\n",
    "\n",
    "grid_search = GridSearchCV(SVR(),\n",
    "                           param_grid,\n",
    "                           cv=5,\n",
    "                           scoring='r2',\n",
    "                           n_jobs=-1)\n",
    "grid_search.fit(x_train_scaled, y_train_scaled.ravel())\n",
    "print(grid_search.best_params_)\n",
    "\n",
    "#{'C': 0.01, 'kernel': 'linear'}"
   ]
  },
  {
   "cell_type": "markdown",
   "id": "4dc87d08-bbeb-4e55-8731-633cacfb911e",
   "metadata": {},
   "source": [
    "Run SVR based on the parameters obtained from cross-validation, and calculate fit for both the training and validation datasets. The fit looks substantially better (higher R^2 and lower MSE) in the training than validation set, which suggests overfitting of the training set."
   ]
  },
  {
   "cell_type": "code",
   "execution_count": 8,
   "id": "af906565-bc9a-4e72-b204-dca1d06a6c44",
   "metadata": {
    "colab": {
     "base_uri": "https://localhost:8080/"
    },
    "executionInfo": {
     "elapsed": 17486,
     "status": "ok",
     "timestamp": 1646529162335,
     "user": {
      "displayName": "Walker Pedersen",
      "photoUrl": "https://lh3.googleusercontent.com/a/default-user=s64",
      "userId": "13614401845909810514"
     },
     "user_tz": 480
    },
    "id": "af906565-bc9a-4e72-b204-dca1d06a6c44",
    "outputId": "e5afa088-d7b5-4a23-f263-53d5079cebcf"
   },
   "outputs": [
    {
     "name": "stdout",
     "output_type": "stream",
     "text": [
      "train R-squared: 0.8444437265010829\n",
      "train MSE: 0.007787843554590562 \n",
      "\n",
      "validation R-squared: 0.19997918543564375\n",
      "validation MSE: 0.03578939863803841 \n",
      "\n"
     ]
    }
   ],
   "source": [
    "svr = SVR(C=.01, kernel = 'linear').fit(x_train_scaled,y_train_scaled.ravel())\n",
    "train_yfit = svr.predict(x_train_scaled)\n",
    "\n",
    "score = svr.score(x_train_scaled,y_train_scaled)\n",
    "print(\"train R-squared:\", score)\n",
    "print(\"train MSE:\", mean_squared_error(y_train_scaled, train_yfit),'\\n')\n",
    "\n",
    "score = svr.score(x_validation_scaled,y_validation_scaled)\n",
    "validation_yfit = svr.predict(x_validation_scaled)\n",
    "print(\"validation R-squared:\", score)\n",
    "print(\"validation MSE:\", mean_squared_error(y_validation_scaled, validation_yfit),'\\n')\n"
   ]
  },
  {
   "cell_type": "markdown",
   "id": "1fb06342-9aaf-432d-a2fc-e51dbcf6f7bd",
   "metadata": {},
   "source": [
    "Try to further triangulate the best parameters for the model.  This time, rather than using cross-validation of the training set, search for the parameters that lead to the best fit on our validation set."
   ]
  },
  {
   "cell_type": "code",
   "execution_count": 9,
   "id": "dab4492c-7c19-4854-aec1-ae26d7b0d76f",
   "metadata": {
    "id": "dab4492c-7c19-4854-aec1-ae26d7b0d76f"
   },
   "outputs": [],
   "source": [
    "# List of dictionaries with paramters to run through for each kernel.\n",
    "param_grid = [\n",
    "  {'kernel': ['linear'], 'C': np.geomspace(.0001,1000,num=8), \n",
    "   'degree':['NA'], 'gamma':['NA']},\n",
    "  {'kernel': ['poly'], 'C': np.geomspace(.0001,1000,num=8), \n",
    "   'degree':[2,3,5], 'gamma': np.geomspace(.0001,1000,num=8)},\n",
    "  { 'kernel': ['rbf'],'C': np.geomspace(.0001,1000,num=8), \n",
    "   'degree':['NA'], 'gamma': np.geomspace(.0001,1000,num=8)}\n",
    " ]\n",
    "\n",
    "results_dict = {}\n",
    "i = 0\n",
    "# For each kernal, fit each combination of parameters, computer R^2 and MSE\n",
    "# for the training and validation data sets and store in a dictionary\n",
    "for param_dict in param_grid:\n",
    "    for C,degree,gamma in product(\n",
    "        param_dict['C'],param_dict['degree'],param_dict['gamma']):\n",
    "        \n",
    "        i += 1\n",
    "        \n",
    "        # Run the appropriate SVR model for given iteration\n",
    "        if degree == 'NA':\n",
    "            if gamma == 'NA':\n",
    "                svr = SVR(C=C, kernel='linear').fit(\n",
    "                    x_train_scaled,y_train_scaled.ravel())\n",
    "            else:\n",
    "                svr = SVR(C=C, kernel='rbf', gamma=gamma).fit(\n",
    "                    x_train_scaled,y_train_scaled.ravel())\n",
    "        else:\n",
    "            svr = SVR(C=C, kernel='poly', gamma=gamma, degree=degree).fit(\n",
    "                    x_train_scaled,y_train_scaled.ravel())\n",
    "  \n",
    "        # Compute R^2 and MSE for training data\n",
    "        train_R2 = svr.score(x_train_scaled,y_train_scaled)\n",
    "        train_yfit = svr.predict(x_train_scaled)\n",
    "        train_mse = mean_squared_error(y_train_scaled, train_yfit)\n",
    "\n",
    "        # Compute R^2 and MSE for validation data\n",
    "        validation_R2 = svr.score(x_validation_scaled,y_validation_scaled)\n",
    "        validation_yfit = svr.predict(x_validation_scaled)\n",
    "        validation_mse = mean_squared_error(y_validation_scaled, validation_yfit)\n",
    "\n",
    "        # store results in dictionary\n",
    "        tmp_result_dict = {i : {\n",
    "                                'kernel':param_dict['kernel'],\n",
    "                                'degree':degree,\n",
    "                                'C':C,\n",
    "                                'gamma':gamma,\n",
    "                                'train_R2':train_R2,\n",
    "                                'train_mse':train_mse,\n",
    "                                'validation_R2':validation_R2,\n",
    "                                'validation_mse':validation_mse}}\n",
    "\n",
    "        results_dict.update(tmp_result_dict)\n"
   ]
  },
  {
   "cell_type": "markdown",
   "id": "2c2f6a5c-8314-4998-9efc-6ba40a3760cb",
   "metadata": {},
   "source": [
    "Print first few rows of dictionary, sorted by R^2 for the validation dataset. Results aren't too different from cross-validation. The linear kernel still came out on top, but with a bit smaller C value. This suggests a wider margin may provide better out-of-sample model fit. However, we are still seeing substantially better fit for the training dataset, than the validation set. This is likely due, in large part, do have many more dimensions (predictor variables) than observations. If we had a larger dataset, we may be able to get better fit."
   ]
  },
  {
   "cell_type": "code",
   "execution_count": 10,
   "id": "1df9c1b7-6aa3-4161-b161-21af04c459f7",
   "metadata": {},
   "outputs": [
    {
     "data": {
      "text/html": [
       "<div>\n",
       "<style scoped>\n",
       "    .dataframe tbody tr th:only-of-type {\n",
       "        vertical-align: middle;\n",
       "    }\n",
       "\n",
       "    .dataframe tbody tr th {\n",
       "        vertical-align: top;\n",
       "    }\n",
       "\n",
       "    .dataframe thead th {\n",
       "        text-align: right;\n",
       "    }\n",
       "</style>\n",
       "<table border=\"1\" class=\"dataframe\">\n",
       "  <thead>\n",
       "    <tr style=\"text-align: right;\">\n",
       "      <th></th>\n",
       "      <th>kernel</th>\n",
       "      <th>degree</th>\n",
       "      <th>C</th>\n",
       "      <th>gamma</th>\n",
       "      <th>train_R2</th>\n",
       "      <th>train_mse</th>\n",
       "      <th>validation_R2</th>\n",
       "      <th>validation_mse</th>\n",
       "    </tr>\n",
       "  </thead>\n",
       "  <tbody>\n",
       "    <tr>\n",
       "      <th>2</th>\n",
       "      <td>[linear]</td>\n",
       "      <td>NA</td>\n",
       "      <td>0.0010</td>\n",
       "      <td>NA</td>\n",
       "      <td>0.768730</td>\n",
       "      <td>0.011578</td>\n",
       "      <td>0.215340</td>\n",
       "      <td>0.035102</td>\n",
       "    </tr>\n",
       "    <tr>\n",
       "      <th>234</th>\n",
       "      <td>[rbf]</td>\n",
       "      <td>NA</td>\n",
       "      <td>1.0000</td>\n",
       "      <td>0.001</td>\n",
       "      <td>0.838213</td>\n",
       "      <td>0.008100</td>\n",
       "      <td>0.212931</td>\n",
       "      <td>0.035210</td>\n",
       "    </tr>\n",
       "    <tr>\n",
       "      <th>74</th>\n",
       "      <td>[poly]</td>\n",
       "      <td>5</td>\n",
       "      <td>0.0100</td>\n",
       "      <td>0.001</td>\n",
       "      <td>0.844300</td>\n",
       "      <td>0.007795</td>\n",
       "      <td>0.212321</td>\n",
       "      <td>0.035237</td>\n",
       "    </tr>\n",
       "    <tr>\n",
       "      <th>193</th>\n",
       "      <td>[poly]</td>\n",
       "      <td>5</td>\n",
       "      <td>1000.0000</td>\n",
       "      <td>0.0001</td>\n",
       "      <td>0.844301</td>\n",
       "      <td>0.007795</td>\n",
       "      <td>0.212286</td>\n",
       "      <td>0.035239</td>\n",
       "    </tr>\n",
       "    <tr>\n",
       "      <th>19</th>\n",
       "      <td>[poly]</td>\n",
       "      <td>3</td>\n",
       "      <td>0.0001</td>\n",
       "      <td>0.01</td>\n",
       "      <td>0.843245</td>\n",
       "      <td>0.007848</td>\n",
       "      <td>0.210858</td>\n",
       "      <td>0.035303</td>\n",
       "    </tr>\n",
       "  </tbody>\n",
       "</table>\n",
       "</div>"
      ],
      "text/plain": [
       "       kernel degree          C   gamma  train_R2  train_mse  validation_R2  \\\n",
       "2    [linear]     NA     0.0010      NA  0.768730   0.011578       0.215340   \n",
       "234     [rbf]     NA     1.0000   0.001  0.838213   0.008100       0.212931   \n",
       "74     [poly]      5     0.0100   0.001  0.844300   0.007795       0.212321   \n",
       "193    [poly]      5  1000.0000  0.0001  0.844301   0.007795       0.212286   \n",
       "19     [poly]      3     0.0001    0.01  0.843245   0.007848       0.210858   \n",
       "\n",
       "     validation_mse  \n",
       "2          0.035102  \n",
       "234        0.035210  \n",
       "74         0.035237  \n",
       "193        0.035239  \n",
       "19         0.035303  "
      ]
     },
     "execution_count": 10,
     "metadata": {},
     "output_type": "execute_result"
    }
   ],
   "source": [
    "pd.DataFrame.from_dict(results_dict, orient='index').sort_values('validation_R2',ascending=False).head()"
   ]
  },
  {
   "cell_type": "markdown",
   "id": "ae9465f7-d8f2-440f-8e10-53b519fdfc7c",
   "metadata": {},
   "source": [
    "Here we are using the same code, but with different parameter inputs, to fine tune the C parameter. From the prior step we know that setting C to .001 resulted in better model performance in our validation dataset than setting C to either .0001 or .001, but what about values in between those? Here we stick with the linear kernel, but search for C values between .0001 and .001 that may result in better performance."
   ]
  },
  {
   "cell_type": "code",
   "execution_count": 29,
   "id": "2b3695cf-1af2-4f02-bedf-24a5f145fc14",
   "metadata": {},
   "outputs": [],
   "source": [
    "# List of dictionaries with paramters to run through for each kernel.\n",
    "param_grid = [\n",
    "  {'kernel': ['linear'], 'degree':['NA'], 'gamma':['NA'],\n",
    "   'C': np.linspace(.0001,.01,num=100)}\n",
    " ]\n",
    "\n",
    "fine_tune_dict = {}\n",
    "i = 0\n",
    "# For each kernal, fit each combination of parameters, computer R^2 and MSE\n",
    "# for the training and validation data sets and store in a dictionary\n",
    "for param_dict in param_grid:\n",
    "    for C,degree,gamma in product(\n",
    "        param_dict['C'],param_dict['degree'],param_dict['gamma']):\n",
    "        \n",
    "        i += 1\n",
    "        \n",
    "        # Run the appropriate SVR model for given iteration\n",
    "        if degree == 'NA':\n",
    "            if gamma == 'NA':\n",
    "                svr = SVR(C=C, kernel='linear').fit(\n",
    "                    x_train_scaled,y_train_scaled.ravel())\n",
    "            else:\n",
    "                svr = SVR(C=C, kernel='rbf', gamma=gamma).fit(\n",
    "                    x_train_scaled,y_train_scaled.ravel())\n",
    "        else:\n",
    "            svr = SVR(C=C, kernel='poly', gamma=gamma, degree=degree).fit(\n",
    "                    x_train_scaled,y_train_scaled.ravel())\n",
    "  \n",
    "        # Compute R^2 and MSE for training data\n",
    "        train_R2 = svr.score(x_train_scaled,y_train_scaled)\n",
    "        train_yfit = svr.predict(x_train_scaled)\n",
    "        train_mse = mean_squared_error(y_train_scaled, train_yfit)\n",
    "\n",
    "        # Compute R^2 and MSE for validation data\n",
    "        validation_R2 = svr.score(x_validation_scaled,y_validation_scaled)\n",
    "        validation_yfit = svr.predict(x_validation_scaled)\n",
    "        validation_mse = mean_squared_error(y_validation_scaled, validation_yfit)\n",
    "\n",
    "        # store results in dictionary\n",
    "        tmp_result_dict = {i : {\n",
    "                                'kernel':param_dict['kernel'],\n",
    "                                'degree':degree,\n",
    "                                'C':C,\n",
    "                                'gamma':gamma,\n",
    "                                'train_R2':train_R2,\n",
    "                                'train_mse':train_mse,\n",
    "                                'validation_R2':validation_R2,\n",
    "                                'validation_mse':validation_mse}}\n",
    "\n",
    "        fine_tune_dict.update(tmp_result_dict)\n"
   ]
  },
  {
   "cell_type": "markdown",
   "id": "d9da85b8-210b-4fdd-bccb-d9499c58b8ec",
   "metadata": {},
   "source": [
    "Having tested other values, we find in the resulting table that the previously obtained value for C, .001, seems to be the best."
   ]
  },
  {
   "cell_type": "code",
   "execution_count": 31,
   "id": "f42d0a46-2671-4840-abc0-d2be2ce82d5d",
   "metadata": {},
   "outputs": [
    {
     "data": {
      "text/html": [
       "<div>\n",
       "<style scoped>\n",
       "    .dataframe tbody tr th:only-of-type {\n",
       "        vertical-align: middle;\n",
       "    }\n",
       "\n",
       "    .dataframe tbody tr th {\n",
       "        vertical-align: top;\n",
       "    }\n",
       "\n",
       "    .dataframe thead th {\n",
       "        text-align: right;\n",
       "    }\n",
       "</style>\n",
       "<table border=\"1\" class=\"dataframe\">\n",
       "  <thead>\n",
       "    <tr style=\"text-align: right;\">\n",
       "      <th></th>\n",
       "      <th>kernel</th>\n",
       "      <th>degree</th>\n",
       "      <th>C</th>\n",
       "      <th>gamma</th>\n",
       "      <th>train_R2</th>\n",
       "      <th>train_mse</th>\n",
       "      <th>validation_R2</th>\n",
       "      <th>validation_mse</th>\n",
       "    </tr>\n",
       "  </thead>\n",
       "  <tbody>\n",
       "    <tr>\n",
       "      <th>10</th>\n",
       "      <td>[linear]</td>\n",
       "      <td>NA</td>\n",
       "      <td>0.0010</td>\n",
       "      <td>NA</td>\n",
       "      <td>0.768730</td>\n",
       "      <td>0.011578</td>\n",
       "      <td>0.215340</td>\n",
       "      <td>0.035102</td>\n",
       "    </tr>\n",
       "    <tr>\n",
       "      <th>11</th>\n",
       "      <td>[linear]</td>\n",
       "      <td>NA</td>\n",
       "      <td>0.0011</td>\n",
       "      <td>NA</td>\n",
       "      <td>0.784859</td>\n",
       "      <td>0.010771</td>\n",
       "      <td>0.215161</td>\n",
       "      <td>0.035110</td>\n",
       "    </tr>\n",
       "    <tr>\n",
       "      <th>12</th>\n",
       "      <td>[linear]</td>\n",
       "      <td>NA</td>\n",
       "      <td>0.0012</td>\n",
       "      <td>NA</td>\n",
       "      <td>0.798231</td>\n",
       "      <td>0.010101</td>\n",
       "      <td>0.214395</td>\n",
       "      <td>0.035144</td>\n",
       "    </tr>\n",
       "    <tr>\n",
       "      <th>9</th>\n",
       "      <td>[linear]</td>\n",
       "      <td>NA</td>\n",
       "      <td>0.0009</td>\n",
       "      <td>NA</td>\n",
       "      <td>0.749380</td>\n",
       "      <td>0.012547</td>\n",
       "      <td>0.213728</td>\n",
       "      <td>0.035174</td>\n",
       "    </tr>\n",
       "    <tr>\n",
       "      <th>13</th>\n",
       "      <td>[linear]</td>\n",
       "      <td>NA</td>\n",
       "      <td>0.0013</td>\n",
       "      <td>NA</td>\n",
       "      <td>0.808851</td>\n",
       "      <td>0.009570</td>\n",
       "      <td>0.213011</td>\n",
       "      <td>0.035206</td>\n",
       "    </tr>\n",
       "  </tbody>\n",
       "</table>\n",
       "</div>"
      ],
      "text/plain": [
       "      kernel degree       C gamma  train_R2  train_mse  validation_R2  \\\n",
       "10  [linear]     NA  0.0010    NA  0.768730   0.011578       0.215340   \n",
       "11  [linear]     NA  0.0011    NA  0.784859   0.010771       0.215161   \n",
       "12  [linear]     NA  0.0012    NA  0.798231   0.010101       0.214395   \n",
       "9   [linear]     NA  0.0009    NA  0.749380   0.012547       0.213728   \n",
       "13  [linear]     NA  0.0013    NA  0.808851   0.009570       0.213011   \n",
       "\n",
       "    validation_mse  \n",
       "10        0.035102  \n",
       "11        0.035110  \n",
       "12        0.035144  \n",
       "9         0.035174  \n",
       "13        0.035206  "
      ]
     },
     "execution_count": 31,
     "metadata": {},
     "output_type": "execute_result"
    }
   ],
   "source": [
    "pd.DataFrame.from_dict(fine_tune_dict, orient='index').sort_values('validation_R2',ascending=False).head()"
   ]
  },
  {
   "cell_type": "markdown",
   "id": "ed3556c2-6683-4218-be50-f95021087879",
   "metadata": {},
   "source": [
    "Fit the model with our chosen value for C, and plot the predicted scaled intellegence scores against actual scaled intellegence scores for the validation set. You can see visually that there is a correlation, indicating that the model is able to give us some information about the likely intellegence score from brain connectivity patterns, although the prediction is far from perfect."
   ]
  },
  {
   "cell_type": "code",
   "execution_count": 33,
   "id": "0b12c1b9-7df4-448e-8885-9a95df8cd3f5",
   "metadata": {
    "colab": {
     "base_uri": "https://localhost:8080/",
     "height": 337
    },
    "executionInfo": {
     "elapsed": 580,
     "status": "ok",
     "timestamp": 1646587601783,
     "user": {
      "displayName": "Walker Pedersen",
      "photoUrl": "https://lh3.googleusercontent.com/a/default-user=s64",
      "userId": "13614401845909810514"
     },
     "user_tz": 480
    },
    "id": "0b12c1b9-7df4-448e-8885-9a95df8cd3f5",
    "outputId": "9f37db40-ab68-41ea-bec6-2f22c206aaa1",
    "tags": []
   },
   "outputs": [
    {
     "data": {
      "text/plain": [
       "Text(0, 0.5, 'Predicted Intellegence Score')"
      ]
     },
     "execution_count": 33,
     "metadata": {},
     "output_type": "execute_result"
    },
    {
     "data": {
      "image/png": "[encoded data removed]",
      "text/plain": [
       "<Figure size 432x288 with 1 Axes>"
      ]
     },
     "metadata": {
      "needs_background": "light"
     },
     "output_type": "display_data"
    }
   ],
   "source": [
    "svr = SVR(C=.001, kernel = 'linear').fit(x_train_scaled,y_train_scaled.ravel())\n",
    "\n",
    "validation_yfit = svr.predict(x_validation_scaled)\n",
    "\n",
    "validation_plot=sns.regplot(x=y_validation_scaled,y=validation_yfit,\n",
    "        scatter_kws={'alpha':0.5, 'color':'darkcyan'}, \n",
    "        line_kws={'color':'darkcyan'})\n",
    "validation_plot.set_xlabel(\"Intellegence Score\", fontsize = 12)\n",
    "validation_plot.set_ylabel(\"Predicted Intellegence Score\", fontsize = 12)"
   ]
  },
  {
   "cell_type": "markdown",
   "id": "cf306233-9264-45fb-a7f5-b89bc0203c31",
   "metadata": {},
   "source": [
    "# Model Evalution\n",
    "Now we test the model on the test dataset, that was held out from the beginning. Since this data was not used to train or tune our model in any way, this will give us an unbiased estimate of the accuracy of our model. With an R^2 of .268, the model is predicting intellegence scores in our test dataset a bit better than it did for our validation dataset."
   ]
  },
  {
   "cell_type": "code",
   "execution_count": 14,
   "id": "NEBo8Rb0YgnT",
   "metadata": {
    "executionInfo": {
     "elapsed": 203,
     "status": "ok",
     "timestamp": 1646587655538,
     "user": {
      "displayName": "Walker Pedersen",
      "photoUrl": "https://lh3.googleusercontent.com/a/default-user=s64",
      "userId": "13614401845909810514"
     },
     "user_tz": 480
    },
    "id": "NEBo8Rb0YgnT"
   },
   "outputs": [
    {
     "name": "stdout",
     "output_type": "stream",
     "text": [
      "test R-squared: 0.2631142084197098\n",
      "test MSE: 0.041236881044810936 \n",
      "\n"
     ]
    }
   ],
   "source": [
    "x_test = testAbr_df.iloc[:,0:9998]\n",
    "y_test = testAbr_df.loc[:,y_var]\n",
    "\n",
    "# Apply scaling calculated on training data to test data\n",
    "\n",
    "# scale x\n",
    "x_test_scaled = x_scaler.transform(x_test)\n",
    "# scale y\n",
    "y_test_scaled = y_scaler.transform(y_test.values.reshape(-1,1))\n",
    "\n",
    "# fit the test data, and calculate R^2 and MSE\n",
    "score = svr.score(x_test_scaled,y_test_scaled)\n",
    "test_yfit = svr.predict(x_test_scaled)\n",
    "print(\"test R-squared:\", score)\n",
    "print(\"test MSE:\", mean_squared_error(y_test_scaled, test_yfit),'\\n')"
   ]
  },
  {
   "cell_type": "markdown",
   "id": "3a08212e-b38c-4b95-b383-6b1aecdad653",
   "metadata": {
    "id": "PrSid2jncFhz"
   },
   "source": [
    "Finally, we visualize model fit for the test dataset. As in our validation set, we can see that the model has some ability to predict intellegence from patterns of brain connectivity, although imperfectly."
   ]
  },
  {
   "cell_type": "code",
   "execution_count": 15,
   "id": "BEw3_oOnYgyn",
   "metadata": {
    "colab": {
     "base_uri": "https://localhost:8080/",
     "height": 337
    },
    "executionInfo": {
     "elapsed": 635,
     "status": "ok",
     "timestamp": 1646587662947,
     "user": {
      "displayName": "Walker Pedersen",
      "photoUrl": "https://lh3.googleusercontent.com/a/default-user=s64",
      "userId": "13614401845909810514"
     },
     "user_tz": 480
    },
    "id": "BEw3_oOnYgyn",
    "outputId": "92c461a5-4f58-46ef-9756-7791c977ab33"
   },
   "outputs": [
    {
     "data": {
      "text/plain": [
       "Text(0, 0.5, 'Predicted Intellegence Score')"
      ]
     },
     "execution_count": 15,
     "metadata": {},
     "output_type": "execute_result"
    },
    {
     "data": {
      "image/png": "[encoded data removed]",
      "text/plain": [
       "<Figure size 432x288 with 1 Axes>"
      ]
     },
     "metadata": {
      "needs_background": "light"
     },
     "output_type": "display_data"
    }
   ],
   "source": [
    "test_plot=sns.regplot(x=y_test_scaled,y=test_yfit,\n",
    "                      scatter_kws={'alpha':0.5,'color':'darkcyan'},\n",
    "                      line_kws={'color':'darkcyan'})\n",
    "test_plot.set_xlabel(\"Intellegence Score\", fontsize = 12)\n",
    "test_plot.set_ylabel(\"Predicted Intellegence Score\", fontsize = 12)"
   ]
  },
  {
   "cell_type": "markdown",
   "id": "106d4a28-079a-44ad-be80-b89edfa605d7",
   "metadata": {},
   "source": [
    "# Conclusion\n",
    "In this script we built a support vector machine model to predict intellegence scores from patterns of brain connectivity. The model was able to account for 26.8% of the variance in intellegence scores. While this model would not be adequate to predict an individual's intellegence with a high degree of accuracy, it does demonstrate that an individuals patterns of brain connectivity can give us information about their intellegence. I've done a lot of (non-ML) work looking at simple correlations between fmri measures of brain activity and emotion, personality and cognition - and am used to the strongest of those associations having an R^2 of less then .1. So it is interesting that patterns of brain connectivity on this macro level (looking at connectivity between 100 regions, vs. individual cells) contain enough information about intellegence to account for 26.8% of the variance.\n",
    "\n",
    "It would be interesting to see if training a similar model on a larger number of participants would allow us to predict intellegence scores with greater accuracy. The low number of participants (1003) relative to the number of features (10,000) used here likely resulted in an overfit model, as our accuracy in the training dataset was substantially better than in the validation and test sets, even after searching for a set of parameters that would perform well in the validation set. Nevertheless, this model provides proof of concept that brain connectivity patterns contain information about an individual's intellegence score."
   ]
  }
 ],
 "metadata": {
  "colab": {
   "collapsed_sections": [],
   "name": "learn.ipynb",
   "provenance": []
  },
  "kernelspec": {
   "display_name": "Python 3 (ipykernel)",
   "language": "python",
   "name": "python3"
  },
  "language_info": {
   "codemirror_mode": {
    "name": "ipython",
    "version": 3
   },
   "file_extension": ".py",
   "mimetype": "text/x-python",
   "name": "python",
   "nbconvert_exporter": "python",
   "pygments_lexer": "ipython3",
   "version": "3.10.2"
  }
 },
 "nbformat": 4,
 "nbformat_minor": 5
}
